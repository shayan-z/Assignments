{
 "cells": [
  {
   "cell_type": "code",
   "execution_count": 40,
   "metadata": {},
   "outputs": [],
   "source": [
    "from bs4 import BeautifulSoup\n",
    "import requests\n",
    "import pandas as pd\n",
    "\n",
    "site = f\"https://www.realmadrid.com/en/football/squad\"\n",
    "r = requests.get(site)\n",
    "page = r.text\n",
    "\n",
    "players_menu = BeautifulSoup(page, 'html.parser')\n",
    "\n",
    "if r.status_code == 200:\n",
    "    players = players_menu.select(\".m_player_info_content\") # .get_text() only takes the text, without h1 / h2 / etc\n",
    "\n",
    "#print(player)"
   ]
  },
  {
   "cell_type": "code",
   "execution_count": 41,
   "metadata": {},
   "outputs": [
    {
     "name": "stdout",
     "output_type": "stream",
     "text": [
      "[['Keylor Navas', 'https://www.realmadrid.com/en/football/squad/keylor-navas'], ['K. Casilla', 'https://www.realmadrid.com/en/football/squad/francisco--casilla-cortes-'], ['Courtois', 'https://www.realmadrid.com/en/football/squad/thibaut-courtois'], ['Luca', 'https://www.realmadrid.com/en/football/squad/luca-fernandez'], ['Carvajal', 'https://www.realmadrid.com/en/football/squad/daniel-carvajal-ramos'], ['Vallejo', 'https://www.realmadrid.com/en/football/squad/jesus-vallejo-lazaro'], ['Sergio Ramos', 'https://www.realmadrid.com/en/football/squad/sergio-ramos-garcia'], ['Varane', 'https://www.realmadrid.com/en/football/squad/raphael-varane'], ['Nacho', 'https://www.realmadrid.com/en/football/squad/jose-i-fernandez-iglesias'], ['Marcelo', 'https://www.realmadrid.com/en/football/squad/marcelo-vieira-da-silva'], ['Odriozola', 'https://www.realmadrid.com/en/football/squad/alvaro-odriozola'], ['Reguilón', 'https://www.realmadrid.com/en/football/squad/sergio-reguilon-rodriguez--'], ['Kroos', 'https://www.realmadrid.com/en/football/squad/toni-kroos'], ['Modric', 'https://www.realmadrid.com/en/football/squad/luka-modric'], ['Casemiro', 'https://www.realmadrid.com/en/football/squad/carlos-henrique-casemiro'], ['Valverde', 'https://www.realmadrid.com/en/football/squad/federico-santiago-valverde-dipetta'], ['M. Llorente', 'https://www.realmadrid.com/en/football/squad/marcos-llorente-moreno'], ['Asensio', 'https://www.realmadrid.com/en/football/squad/marco-asensio-willemsen'], ['Isco', 'https://www.realmadrid.com/en/football/squad/francisco-roman--alarcon'], ['D. Ceballos', 'https://www.realmadrid.com/en/football/squad/daniel-ceballos-fernandez'], ['Mariano', 'https://www.realmadrid.com/en/football/squad/mariano-diaz-mejia'], ['Benzema', 'https://www.realmadrid.com/en/football/squad/karim-benzema'], ['Bale', 'https://www.realmadrid.com/en/football/squad/gareth-bale'], ['Lucas Vázquez', 'https://www.realmadrid.com/en/football/squad/lucas-vazquez-iglesias-'], ['Vinicius Jr.', 'https://www.realmadrid.com/en/football/squad/vinicius-paixao-de-oliveira-junior-']]\n"
     ]
    }
   ],
   "source": [
    "players_list = []\n",
    "# for menu_item in menu_items:\n",
    "   \n",
    "for p in players[0:25]:\n",
    "    name = p.select(\"span\")[0].get_text().strip()\n",
    "    player_link = p.find(\"a\").attrs['href']\n",
    "    url = f\"https://www.realmadrid.com{player_link}\"\n",
    "    #print(url)\n",
    "    #players_list.append([title[0].get_text().strip(), price[0].get_text().replace(\"€\", \"\").replace(\",\", \".\").strip()])\n",
    "    players_list.append([name, url])\n",
    "print(players_list)"
   ]
  },
  {
   "cell_type": "code",
   "execution_count": 42,
   "metadata": {},
   "outputs": [],
   "source": [
    "url_player = url\n",
    "r_p = requests.get(url_player)\n",
    "page_p = r_p.text\n",
    "player_html = BeautifulSoup(page_p, 'html.parser')\n",
    "if r_p.status_code == 200:\n",
    "    player_page = player_html.select(\".personal_data\")"
   ]
  },
  {
   "cell_type": "code",
   "execution_count": 43,
   "metadata": {},
   "outputs": [],
   "source": [
    "for pg in player_page:\n",
    "    birth = pg.select(\".data_info span\")[2].get_text().strip()\n",
    "   \n",
    "    #player_link = p.find(\"a\").attrs['href']\n",
    "    #print(url)\n",
    "    #players_list.append([title[0].get_text().strip(), price[0].get_text().replace(\"€\", \"\").replace(\",\", \".\").strip()])\n",
    "    #players_list.append([name, url])"
   ]
  },
  {
   "cell_type": "code",
   "execution_count": 44,
   "metadata": {},
   "outputs": [
    {
     "name": "stdout",
     "output_type": "stream",
     "text": [
      "12/07/2000\n"
     ]
    }
   ],
   "source": [
    " print(birth)"
   ]
  },
  {
   "cell_type": "code",
   "execution_count": null,
   "metadata": {},
   "outputs": [],
   "source": []
  },
  {
   "cell_type": "code",
   "execution_count": null,
   "metadata": {},
   "outputs": [],
   "source": []
  }
 ],
 "metadata": {
  "kernelspec": {
   "display_name": "Python 3",
   "language": "python",
   "name": "python3"
  },
  "language_info": {
   "codemirror_mode": {
    "name": "ipython",
    "version": 3
   },
   "file_extension": ".py",
   "mimetype": "text/x-python",
   "name": "python",
   "nbconvert_exporter": "python",
   "pygments_lexer": "ipython3",
   "version": "3.6.5"
  }
 },
 "nbformat": 4,
 "nbformat_minor": 2
}
