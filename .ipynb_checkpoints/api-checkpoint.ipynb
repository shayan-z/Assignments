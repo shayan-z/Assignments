{
 "cells": [
  {
   "cell_type": "code",
   "execution_count": 17,
   "metadata": {},
   "outputs": [
    {
     "name": "stdout",
     "output_type": "stream",
     "text": [
      "Error, We cant find any article in English.\n",
      "There is no related article in nalkshdsa.\n"
     ]
    }
   ],
   "source": [
    "import requests\n",
    "import json\n",
    "import IPython.display\n",
    "\n",
    "from IPython.core.display import display, HTML\n",
    "\n",
    "lang = {\"en\": \"English\", \"nl\": \"Nederlands\", \"de\": \"Deutch\"}\n",
    "\n",
    "wiki_article = input(\"Enter the article name you want to search: \")\n",
    "wiki_lang = input(\"Options:\\nen: English\\nnl: Nederlands\\nde: deutch\\nIn which language do you wish to search? \").lower()\n",
    "user_confirm = input(f\"You are search for {wiki_article} in {lang[wiki_lang]}. Enter YES to confirm. \").upper()\n",
    "\n",
    "wiki_summary = f\"https://{wiki_lang}.wikipedia.org/api/rest_v1/page/summary/\"\n",
    "wiki_related = f\"https://{wiki_lang}.wikipedia.org/api/rest_v1/page/related/\"\n",
    "\n",
    "url = wiki_summary + wiki_article\n",
    "url_r = wiki_related + wiki_article\n",
    "\n",
    "r = requests.get(url)\n",
    "r_r = requests.get(url_r)\n",
    "\n",
    "data = json.loads(r.text)\n",
    "data_r = json.loads(r_r.text)\n",
    "\n",
    "if user_confirm == \"YES\":\n",
    "    if r.status_code == 200:\n",
    "        if \"description\" not in data:\n",
    "            print(data[\"title\"] + \"\\n\" + \"\\n\" + data[\"extract\"])\n",
    "        else:\n",
    "            print(data[\"title\"] + \"\\n\" + data[\"description\"] + \"\\n\" + data[\"extract\"])\n",
    "        if \"thumbnail\" in data:\n",
    "            display(HTML(\"<img src=\" + '\"' + data[\"thumbnail\"][\"source\"] + '\"' + \"/>\"))\n",
    "        else:\n",
    "            print(\"There is no thumbnail available\")\n",
    "        if \"coordinates\" in data:\n",
    "            cordinates = \"http://maps.google.com/?q=\" + str(data[\"coordinates\"][\"lat\"]) + \",\" + str(data[\"coordinates\"][\"lon\"])\n",
    "            display(HTML(\"<a href=\"+ '' + cordinates + ''+\">\"+ '' + cordinates + ''+\"</a>\"))\n",
    "        else:\n",
    "            print(\"There is no coordinates available\")\n",
    "    else:\n",
    "        print(f\"Error, We cant find any article in {lang[wiki_lang]}.\")\n",
    "   \n",
    "    if r_r.status_code == 200:\n",
    "        \n",
    "        list_data = []\n",
    "        for key, value in enumerate(data_r[\"pages\"]):\n",
    "            info = data_r[\"pages\"][key]\n",
    "            #print(info)\n",
    "            title = info[\"title\"].replace(\"_\",\" \")\n",
    "            if \"description\" in info:\n",
    "                description = info[\"description\"]\n",
    "            url_d = info[\"content_urls\"][\"desktop\"]\n",
    "            url = url_d[\"page\"]\n",
    "            if key < 3: \n",
    "                list_data.append({\"title\" : title,\"description\" : description , \"url\" : url})\n",
    "\n",
    "        for item in list_data:\n",
    "            print(f\"Article title: {item['title']}\\nArticle description: {item['description']}\\nArticle url: {item['url']}\\n\\n\")\n",
    "    else:\n",
    "        print(f\"There is no related article for {wiki_article}.\")"
   ]
  },
  {
   "cell_type": "code",
   "execution_count": null,
   "metadata": {},
   "outputs": [],
   "source": []
  },
  {
   "cell_type": "code",
   "execution_count": null,
   "metadata": {},
   "outputs": [],
   "source": []
  },
  {
   "cell_type": "code",
   "execution_count": null,
   "metadata": {},
   "outputs": [],
   "source": []
  },
  {
   "cell_type": "code",
   "execution_count": null,
   "metadata": {},
   "outputs": [],
   "source": []
  },
  {
   "cell_type": "code",
   "execution_count": null,
   "metadata": {},
   "outputs": [],
   "source": []
  },
  {
   "cell_type": "code",
   "execution_count": null,
   "metadata": {},
   "outputs": [],
   "source": []
  },
  {
   "cell_type": "code",
   "execution_count": null,
   "metadata": {},
   "outputs": [],
   "source": []
  },
  {
   "cell_type": "code",
   "execution_count": null,
   "metadata": {},
   "outputs": [],
   "source": []
  }
 ],
 "metadata": {
  "kernelspec": {
   "display_name": "Python 3",
   "language": "python",
   "name": "python3"
  },
  "language_info": {
   "codemirror_mode": {
    "name": "ipython",
    "version": 3
   },
   "file_extension": ".py",
   "mimetype": "text/x-python",
   "name": "python",
   "nbconvert_exporter": "python",
   "pygments_lexer": "ipython3",
   "version": "3.6.5"
  }
 },
 "nbformat": 4,
 "nbformat_minor": 2
}
